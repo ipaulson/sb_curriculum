{
 "cells": [
  {
   "cell_type": "markdown",
   "metadata": {},
   "source": [
    "# Student Performance Dataset\n",
    "\n",
    "## Using Survey Data to Identify Failing Students\n",
    "\n",
    "### Problem\n",
    "\n",
    "Failing students add numerous tangible and intangible costs to schools, school districts, and even entire education systems. For example, failing students are usually required to retake classes, adding hours to teacher and paraeducator workloads; costly interventions are applied to failing students; and - fairly or unfairly - media and public attention is often drawn to the number of failing students in school, district, or state jurisdictions.\n",
    "\n",
    "Anecdotally, teachers and other education professionals observe common characteristics among their failing students. What if student student behavior surveys could be use to pick out common traits amongst failing students? This analysis attempts to answer this question by applying machine learning techniques from scikit-learn to a dataset containing student grades and behavioral surveys, found at: [UCI Machine Learning Repository - Student Performance Data Set](http://archive.ics.uci.edu/ml/datasets/Student+Performance)."
   ]
  },
  {
   "cell_type": "markdown",
   "metadata": {},
   "source": [
    "### Import modules\n",
    "\n",
    "First, do the initial import of necessary packages. SciKit Learn modules will be introduced as applicable."
   ]
  },
  {
   "cell_type": "code",
   "execution_count": 1,
   "metadata": {},
   "outputs": [],
   "source": [
    "import numpy as np\n",
    "import pandas as pd\n",
    "import matplotlib.pyplot as plt\n",
    "import seaborn as sns"
   ]
  },
  {
   "cell_type": "markdown",
   "metadata": {},
   "source": [
    "### Check Data"
   ]
  },
  {
   "cell_type": "markdown",
   "metadata": {},
   "source": [
    "Next, look at the data to see if it is in the correct shape and has been processed correctly."
   ]
  },
  {
   "cell_type": "code",
   "execution_count": 2,
   "metadata": {},
   "outputs": [
    {
     "name": "stdout",
     "output_type": "stream",
     "text": [
      "<class 'pandas.core.frame.DataFrame'>\n",
      "RangeIndex: 649 entries, 0 to 648\n",
      "Data columns (total 52 columns):\n",
      " #   Column             Non-Null Count  Dtype\n",
      "---  ------             --------------  -----\n",
      " 0   Unnamed: 0         649 non-null    int64\n",
      " 1   age                649 non-null    int64\n",
      " 2   Medu               649 non-null    int64\n",
      " 3   Fedu               649 non-null    int64\n",
      " 4   traveltime         649 non-null    int64\n",
      " 5   studytime          649 non-null    int64\n",
      " 6   failures           649 non-null    int64\n",
      " 7   schoolsup          649 non-null    int64\n",
      " 8   famsup             649 non-null    int64\n",
      " 9   paid               649 non-null    int64\n",
      " 10  activities         649 non-null    int64\n",
      " 11  nursery            649 non-null    int64\n",
      " 12  higher             649 non-null    int64\n",
      " 13  internet           649 non-null    int64\n",
      " 14  romantic           649 non-null    int64\n",
      " 15  famrel             649 non-null    int64\n",
      " 16  freetime           649 non-null    int64\n",
      " 17  goout              649 non-null    int64\n",
      " 18  Dalc               649 non-null    int64\n",
      " 19  Walc               649 non-null    int64\n",
      " 20  health             649 non-null    int64\n",
      " 21  absences           649 non-null    int64\n",
      " 22  G1                 649 non-null    int64\n",
      " 23  G2                 649 non-null    int64\n",
      " 24  G3                 649 non-null    int64\n",
      " 25  school_GP          649 non-null    int64\n",
      " 26  school_MS          649 non-null    int64\n",
      " 27  sex_F              649 non-null    int64\n",
      " 28  sex_M              649 non-null    int64\n",
      " 29  address_R          649 non-null    int64\n",
      " 30  address_U          649 non-null    int64\n",
      " 31  famsize_GT3        649 non-null    int64\n",
      " 32  famsize_LE3        649 non-null    int64\n",
      " 33  Pstatus_A          649 non-null    int64\n",
      " 34  Pstatus_T          649 non-null    int64\n",
      " 35  Mjob_at_home       649 non-null    int64\n",
      " 36  Mjob_health        649 non-null    int64\n",
      " 37  Mjob_other         649 non-null    int64\n",
      " 38  Mjob_services      649 non-null    int64\n",
      " 39  Mjob_teacher       649 non-null    int64\n",
      " 40  Fjob_at_home       649 non-null    int64\n",
      " 41  Fjob_health        649 non-null    int64\n",
      " 42  Fjob_other         649 non-null    int64\n",
      " 43  Fjob_services      649 non-null    int64\n",
      " 44  Fjob_teacher       649 non-null    int64\n",
      " 45  reason_course      649 non-null    int64\n",
      " 46  reason_home        649 non-null    int64\n",
      " 47  reason_other       649 non-null    int64\n",
      " 48  reason_reputation  649 non-null    int64\n",
      " 49  guardian_father    649 non-null    int64\n",
      " 50  guardian_mother    649 non-null    int64\n",
      " 51  guardian_other     649 non-null    int64\n",
      "dtypes: int64(52)\n",
      "memory usage: 263.8 KB\n"
     ]
    },
    {
     "data": {
      "text/html": [
       "<div>\n",
       "<style scoped>\n",
       "    .dataframe tbody tr th:only-of-type {\n",
       "        vertical-align: middle;\n",
       "    }\n",
       "\n",
       "    .dataframe tbody tr th {\n",
       "        vertical-align: top;\n",
       "    }\n",
       "\n",
       "    .dataframe thead th {\n",
       "        text-align: right;\n",
       "    }\n",
       "</style>\n",
       "<table border=\"1\" class=\"dataframe\">\n",
       "  <thead>\n",
       "    <tr style=\"text-align: right;\">\n",
       "      <th></th>\n",
       "      <th>Unnamed: 0</th>\n",
       "      <th>age</th>\n",
       "      <th>Medu</th>\n",
       "      <th>Fedu</th>\n",
       "      <th>traveltime</th>\n",
       "      <th>studytime</th>\n",
       "      <th>failures</th>\n",
       "      <th>schoolsup</th>\n",
       "      <th>famsup</th>\n",
       "      <th>paid</th>\n",
       "      <th>...</th>\n",
       "      <th>Fjob_other</th>\n",
       "      <th>Fjob_services</th>\n",
       "      <th>Fjob_teacher</th>\n",
       "      <th>reason_course</th>\n",
       "      <th>reason_home</th>\n",
       "      <th>reason_other</th>\n",
       "      <th>reason_reputation</th>\n",
       "      <th>guardian_father</th>\n",
       "      <th>guardian_mother</th>\n",
       "      <th>guardian_other</th>\n",
       "    </tr>\n",
       "  </thead>\n",
       "  <tbody>\n",
       "    <tr>\n",
       "      <th>0</th>\n",
       "      <td>0</td>\n",
       "      <td>18</td>\n",
       "      <td>4</td>\n",
       "      <td>4</td>\n",
       "      <td>2</td>\n",
       "      <td>2</td>\n",
       "      <td>0</td>\n",
       "      <td>1</td>\n",
       "      <td>0</td>\n",
       "      <td>0</td>\n",
       "      <td>...</td>\n",
       "      <td>0</td>\n",
       "      <td>0</td>\n",
       "      <td>1</td>\n",
       "      <td>1</td>\n",
       "      <td>0</td>\n",
       "      <td>0</td>\n",
       "      <td>0</td>\n",
       "      <td>0</td>\n",
       "      <td>1</td>\n",
       "      <td>0</td>\n",
       "    </tr>\n",
       "    <tr>\n",
       "      <th>1</th>\n",
       "      <td>1</td>\n",
       "      <td>17</td>\n",
       "      <td>1</td>\n",
       "      <td>1</td>\n",
       "      <td>1</td>\n",
       "      <td>2</td>\n",
       "      <td>0</td>\n",
       "      <td>0</td>\n",
       "      <td>1</td>\n",
       "      <td>0</td>\n",
       "      <td>...</td>\n",
       "      <td>1</td>\n",
       "      <td>0</td>\n",
       "      <td>0</td>\n",
       "      <td>1</td>\n",
       "      <td>0</td>\n",
       "      <td>0</td>\n",
       "      <td>0</td>\n",
       "      <td>1</td>\n",
       "      <td>0</td>\n",
       "      <td>0</td>\n",
       "    </tr>\n",
       "    <tr>\n",
       "      <th>2</th>\n",
       "      <td>2</td>\n",
       "      <td>15</td>\n",
       "      <td>1</td>\n",
       "      <td>1</td>\n",
       "      <td>1</td>\n",
       "      <td>2</td>\n",
       "      <td>0</td>\n",
       "      <td>1</td>\n",
       "      <td>0</td>\n",
       "      <td>0</td>\n",
       "      <td>...</td>\n",
       "      <td>1</td>\n",
       "      <td>0</td>\n",
       "      <td>0</td>\n",
       "      <td>0</td>\n",
       "      <td>0</td>\n",
       "      <td>1</td>\n",
       "      <td>0</td>\n",
       "      <td>0</td>\n",
       "      <td>1</td>\n",
       "      <td>0</td>\n",
       "    </tr>\n",
       "    <tr>\n",
       "      <th>3</th>\n",
       "      <td>3</td>\n",
       "      <td>15</td>\n",
       "      <td>4</td>\n",
       "      <td>2</td>\n",
       "      <td>1</td>\n",
       "      <td>3</td>\n",
       "      <td>0</td>\n",
       "      <td>0</td>\n",
       "      <td>1</td>\n",
       "      <td>0</td>\n",
       "      <td>...</td>\n",
       "      <td>0</td>\n",
       "      <td>1</td>\n",
       "      <td>0</td>\n",
       "      <td>0</td>\n",
       "      <td>1</td>\n",
       "      <td>0</td>\n",
       "      <td>0</td>\n",
       "      <td>0</td>\n",
       "      <td>1</td>\n",
       "      <td>0</td>\n",
       "    </tr>\n",
       "    <tr>\n",
       "      <th>4</th>\n",
       "      <td>4</td>\n",
       "      <td>16</td>\n",
       "      <td>3</td>\n",
       "      <td>3</td>\n",
       "      <td>1</td>\n",
       "      <td>2</td>\n",
       "      <td>0</td>\n",
       "      <td>0</td>\n",
       "      <td>1</td>\n",
       "      <td>0</td>\n",
       "      <td>...</td>\n",
       "      <td>1</td>\n",
       "      <td>0</td>\n",
       "      <td>0</td>\n",
       "      <td>0</td>\n",
       "      <td>1</td>\n",
       "      <td>0</td>\n",
       "      <td>0</td>\n",
       "      <td>1</td>\n",
       "      <td>0</td>\n",
       "      <td>0</td>\n",
       "    </tr>\n",
       "  </tbody>\n",
       "</table>\n",
       "<p>5 rows × 52 columns</p>\n",
       "</div>"
      ],
      "text/plain": [
       "   Unnamed: 0  age  Medu  Fedu  traveltime  studytime  failures  schoolsup  \\\n",
       "0           0   18     4     4           2          2         0          1   \n",
       "1           1   17     1     1           1          2         0          0   \n",
       "2           2   15     1     1           1          2         0          1   \n",
       "3           3   15     4     2           1          3         0          0   \n",
       "4           4   16     3     3           1          2         0          0   \n",
       "\n",
       "   famsup  paid  ...  Fjob_other  Fjob_services  Fjob_teacher  reason_course  \\\n",
       "0       0     0  ...           0              0             1              1   \n",
       "1       1     0  ...           1              0             0              1   \n",
       "2       0     0  ...           1              0             0              0   \n",
       "3       1     0  ...           0              1             0              0   \n",
       "4       1     0  ...           1              0             0              0   \n",
       "\n",
       "   reason_home  reason_other  reason_reputation  guardian_father  \\\n",
       "0            0             0                  0                0   \n",
       "1            0             0                  0                1   \n",
       "2            0             1                  0                0   \n",
       "3            1             0                  0                0   \n",
       "4            1             0                  0                1   \n",
       "\n",
       "   guardian_mother  guardian_other  \n",
       "0                1               0  \n",
       "1                0               0  \n",
       "2                1               0  \n",
       "3                1               0  \n",
       "4                0               0  \n",
       "\n",
       "[5 rows x 52 columns]"
      ]
     },
     "execution_count": 2,
     "metadata": {},
     "output_type": "execute_result"
    }
   ],
   "source": [
    "df = pd.read_csv('../data/processed/cmbd.csv')\n",
    "df.info()\n",
    "df.head()"
   ]
  },
  {
   "cell_type": "markdown",
   "metadata": {},
   "source": [
    "So far, everything seems pretty good. Let's take a look at the final grade, `G3`, that we are interested in examining to find failing students."
   ]
  },
  {
   "cell_type": "code",
   "execution_count": 3,
   "metadata": {},
   "outputs": [
    {
     "data": {
      "text/plain": [
       "count    649.000000\n",
       "mean      11.906009\n",
       "std        3.230656\n",
       "min        0.000000\n",
       "25%       10.000000\n",
       "50%       12.000000\n",
       "75%       14.000000\n",
       "max       19.000000\n",
       "Name: G3, dtype: float64"
      ]
     },
     "execution_count": 3,
     "metadata": {},
     "output_type": "execute_result"
    }
   ],
   "source": [
    "df['G3'].describe()"
   ]
  },
  {
   "cell_type": "markdown",
   "metadata": {},
   "source": [
    "Some additional processing is required. We are looking to pick out faling students - essentially a binary classification problem - so we should set up a binary variable to track wheter or not students are failing. Accoriding to [Wikipedia](https://en.wikipedia.org/wiki/Academic_grading_in_Portugal), anything less than a final grade of 9.5 is considered 'not sufficient'. "
   ]
  },
  {
   "cell_type": "markdown",
   "metadata": {},
   "source": [
    "### Finalize Pre-processing and Scaling\n",
    "\n",
    "Recode the binary variable and check the value counts."
   ]
  },
  {
   "cell_type": "code",
   "execution_count": 4,
   "metadata": {},
   "outputs": [
    {
     "data": {
      "text/plain": [
       "0.0    549\n",
       "1.0    100\n",
       "Name: not_sufficient, dtype: int64"
      ]
     },
     "execution_count": 4,
     "metadata": {},
     "output_type": "execute_result"
    }
   ],
   "source": [
    "df['not_sufficient'] = np.where(df['G3'] >= 9.5, 0.0, 1.0)\n",
    "df['not_sufficient'].value_counts()"
   ]
  },
  {
   "cell_type": "markdown",
   "metadata": {},
   "source": [
    "Set up the X and y variable (`'not_sufficient'`) for machine learning."
   ]
  },
  {
   "cell_type": "code",
   "execution_count": 5,
   "metadata": {},
   "outputs": [],
   "source": [
    "y = df['not_sufficient']\n",
    "X = df.drop(['G1','G2','G3','not_sufficient'], axis=1)"
   ]
  },
  {
   "cell_type": "markdown",
   "metadata": {},
   "source": [
    "Import the necessary models for test-train split and scaling; implement these modules."
   ]
  },
  {
   "cell_type": "code",
   "execution_count": 6,
   "metadata": {},
   "outputs": [],
   "source": [
    "#Import ML models:\n",
    "from sklearn.model_selection import train_test_split\n",
    "from sklearn.preprocessing import MinMaxScaler\n",
    "\n",
    "from sklearn.metrics import confusion_matrix\n",
    "\n",
    "# Splitting the dataset into training and test set:\n",
    "\n",
    "X_train, X_test, y_train, y_test = train_test_split(X, y, test_size=0.3, random_state=42)\n",
    "\n",
    "# Feature Scaling:\n",
    "\n",
    "scaler_x = MinMaxScaler((-1,1))\n",
    "X_train = scaler_x.fit_transform(X_train)\n",
    "X_test = scaler_x.transform(X_test)"
   ]
  },
  {
   "cell_type": "markdown",
   "metadata": {},
   "source": [
    "### Dummy Classifier\n",
    "\n",
    "First, establish a baseline using a dummy classifier. This dummy classier simply picks out the most frequent class in the dataset, the students whose grades are sufficient."
   ]
  },
  {
   "cell_type": "code",
   "execution_count": 7,
   "metadata": {},
   "outputs": [
    {
     "name": "stdout",
     "output_type": "stream",
     "text": [
      "Accuracy: 0.867\n"
     ]
    },
    {
     "data": {
      "image/png": "[encoded data removed]",
      "text/plain": [
       "<Figure size 432x288 with 2 Axes>"
      ]
     },
     "metadata": {
      "needs_background": "light"
     },
     "output_type": "display_data"
    }
   ],
   "source": [
    "from sklearn.dummy import DummyClassifier\n",
    "from sklearn.metrics import accuracy_score, plot_confusion_matrix\n",
    "\n",
    "# Define dummy classifier\n",
    "dummy = DummyClassifier(strategy='most_frequent')\n",
    "# Fit model\n",
    "dummy.fit(X_train, y_train)\n",
    "# Make predictions\n",
    "yhat_dummy = dummy.predict(X_test)\n",
    "# calculate accuracy\n",
    "accuracy_dummy = accuracy_score(y_test, yhat_dummy)\n",
    "print('Accuracy: %.3f' % accuracy_dummy)\n",
    "#3 Plot confusion matrix\n",
    "_= plot_confusion_matrix(dummy, X_test, y_test, cmap=\"Blues\")\n",
    "_ = plt.title(\"Confusion Matrix - Most Frequent Dummy Classifier\")"
   ]
  },
  {
   "cell_type": "markdown",
   "metadata": {},
   "source": [
    "### Logistic Regression\n",
    "\n",
    "Now that we have established a baseline, start with a simple model, logistic regression, to pick out which students have grades of 'not sufficient'. For all of the models, we will use `GridSearchCV` for hyperparmeter tuning."
   ]
  },
  {
   "cell_type": "code",
   "execution_count": 8,
   "metadata": {},
   "outputs": [
    {
     "name": "stdout",
     "output_type": "stream",
     "text": [
      "Best parameters: {'C': 0.1, 'penalty': 'l1'}\n",
      "Accuracy: 0.892\n",
      "Recall: 0.269\n"
     ]
    },
    {
     "data": {
      "image/png": "[encoded data removed]",
      "text/plain": [
       "<Figure size 432x288 with 1 Axes>"
      ]
     },
     "metadata": {
      "needs_background": "light"
     },
     "output_type": "display_data"
    }
   ],
   "source": [
    "from sklearn.model_selection import GridSearchCV\n",
    "from sklearn.linear_model import LogisticRegression\n",
    "from sklearn.metrics import (plot_precision_recall_curve, plot_roc_curve, \n",
    "                             f1_score, plot_roc_curve, recall_score, \n",
    "                             plot_confusion_matrix)\n",
    "\n",
    "# Set up parameters to be searched over\n",
    "lr_params = {\n",
    "    'C': (0.001,0.01,0.1,1,10,100),\n",
    "    'penalty': ('l1', 'l2'),\n",
    "}\n",
    "\n",
    "# Fit the model and predict\n",
    "gslr = GridSearchCV(LogisticRegression(random_state=42, solver='liblinear'), lr_params)\n",
    "gslr.fit(X_train, y_train)\n",
    "\n",
    "y_pred = gslr.predict(X_test)\n",
    "\n",
    "# Score the grid search model with the testing data\n",
    "lr_acc = gslr.score(X_test, y_test)\n",
    "lr_recall = recall_score(y_test, y_pred)\n",
    "\n",
    "\n",
    "# Print best parameters, accuracy, and recall\n",
    "print('Best parameters: %r' % gslr.best_params_ )\n",
    "print('Accuracy: %.3f' % lr_acc)\n",
    "print('Recall: %.3f' % lr_recall)\n",
    "\n",
    "# Plot\n",
    "_ = plot_roc_curve(gslr,X_test,y_test)\n",
    "_ = plt.title(\"ROC, Logistic Regression\");"
   ]
  },
  {
   "cell_type": "markdown",
   "metadata": {},
   "source": [
    "The predictions using logistic regression are fairly accurate. However, let's take a closer look at recall. Recall is an important metric for this problem. We don't want to identify just some failing students; we want to correctly identify as many of the failing students as possible. The recall score is quite low. Let's take a closer look at the confusion matrix to see what is going on:"
   ]
  },
  {
   "cell_type": "code",
   "execution_count": 9,
   "metadata": {},
   "outputs": [
    {
     "data": {
      "image/png": "[encoded data removed]",
      "text/plain": [
       "<Figure size 432x288 with 2 Axes>"
      ]
     },
     "metadata": {
      "needs_background": "light"
     },
     "output_type": "display_data"
    }
   ],
   "source": [
    "_ = plot_confusion_matrix(gslr, X_test, y_test, cmap=\"Blues\")\n",
    "_ = plt.title(\"Confusion Matrix, Logistic Regression\")\n",
    "plt.show()"
   ]
  },
  {
   "cell_type": "markdown",
   "metadata": {},
   "source": [
    "Only 7 out of the 26 failing students in the test set were correctly identified. Let's take a look at some other models to explore the problem.\n",
    "\n",
    "### KNN Classifier\n",
    "\n",
    "We will use the same method as above for hyperparameter tuning, `GridsearchCV`, this time train the data on a KNN classifier."
   ]
  },
  {
   "cell_type": "code",
   "execution_count": 10,
   "metadata": {},
   "outputs": [
    {
     "name": "stdout",
     "output_type": "stream",
     "text": [
      "Best parameters: {'metric': 'manhattan', 'n_neighbors': 11, 'weights': 'distance'}\n",
      "Accuracy: 0.872\n",
      "Recall: 0.038\n"
     ]
    },
    {
     "data": {
      "image/png": "[encoded data removed]",
      "text/plain": [
       "<Figure size 432x288 with 1 Axes>"
      ]
     },
     "metadata": {
      "needs_background": "light"
     },
     "output_type": "display_data"
    },
    {
     "data": {
      "image/png": "[encoded data removed]",
      "text/plain": [
       "<Figure size 432x288 with 2 Axes>"
      ]
     },
     "metadata": {
      "needs_background": "light"
     },
     "output_type": "display_data"
    }
   ],
   "source": [
    "from sklearn.neighbors import KNeighborsClassifier\n",
    "\n",
    "knn_params = {\n",
    "    'n_neighbors': [3,5,11,13,19],\n",
    "    'weights': ['uniform', 'distance'],\n",
    "    'metric': ['euclidean','manhattan']\n",
    "}\n",
    "\n",
    "gsknn = GridSearchCV(KNeighborsClassifier(),knn_params)\n",
    "gsknn.fit(X_train,y_train)\n",
    "\n",
    "y_predict_knn=gsknn.predict(X_test)\n",
    "\n",
    "accuracy_knn=gsknn.score(X_test,y_test)\n",
    "recall = recall_score(y_test, y_predict_knn)\n",
    "knn_f1 = f1_score(y_test, y_predict_knn)\n",
    "\n",
    "print('Best parameters: %r' %gsknn.best_params_)\n",
    "print('Accuracy: %.3f' % accuracy_knn)\n",
    "print('Recall: %.3f' % recall)\n",
    "\n",
    "plot_roc_curve(gsknn,X_test,y_test)\n",
    "plt.title(\"ROC, KNN\")\n",
    "\n",
    "plot_confusion_matrix(gsknn, X_test, y_test, cmap=\"Blues\")\n",
    "plt.title(\"Confusion Matrix, KNN\");"
   ]
  },
  {
   "cell_type": "markdown",
   "metadata": {},
   "source": [
    "The KNN approach does better than the dummy classifier, but not as well as logistic regression. Also, the recall score is worse. This approach only detected one failing student.\n",
    "\n",
    "Let's try another common approach, the random forest.\n",
    "\n",
    "\n",
    "### Random Forest"
   ]
  },
  {
   "cell_type": "code",
   "execution_count": 11,
   "metadata": {},
   "outputs": [
    {
     "name": "stdout",
     "output_type": "stream",
     "text": [
      "Best parameters: {'class_weight': 'balanced', 'criterion': 'entropy', 'max_features': 'auto', 'n_estimators': 140}\n",
      "Accuracy: 0.862\n",
      "Recall: 0.077\n"
     ]
    },
    {
     "data": {
      "image/png": "[encoded data removed]",
      "text/plain": [
       "<Figure size 432x288 with 1 Axes>"
      ]
     },
     "metadata": {
      "needs_background": "light"
     },
     "output_type": "display_data"
    },
    {
     "data": {
      "image/png": "[encoded data removed]",
      "text/plain": [
       "<Figure size 432x288 with 2 Axes>"
      ]
     },
     "metadata": {
      "needs_background": "light"
     },
     "output_type": "display_data"
    }
   ],
   "source": [
    "from sklearn.ensemble import RandomForestClassifier\n",
    "\n",
    "#Apply RF to the training data:\n",
    "\n",
    "rf_params = {\n",
    "    'n_estimators' : [100, 120, 140],\n",
    "    'criterion': ['gini', 'entropy'],\n",
    "    'max_features': ['auto', 'sqrt', 'log2'],\n",
    "    'class_weight': ['balanced', 'balanced_subsample']\n",
    "}\n",
    "\n",
    "gsrf = GridSearchCV(RandomForestClassifier(),rf_params)\n",
    "\n",
    "gsrf.fit(X_train,y_train)\n",
    "\n",
    "# Predict using model:\n",
    "\n",
    "y_predict_gsrf=gsrf.predict(X_test)\n",
    "\n",
    "\n",
    "\n",
    "accuracy_rf=gsrf.score(X_test,y_test)\n",
    "recall = recall_score(y_test, y_predict_gsrf)\n",
    "\n",
    "print('Best parameters: %r' %gsrf.best_params_)\n",
    "print('Accuracy: %.3f' % accuracy_rf)\n",
    "print('Recall: %.3f' % recall)\n",
    "\n",
    "plot_roc_curve(gsrf,X_test,y_test)\n",
    "plt.title(\"ROC, Random Forest\")\n",
    "\n",
    "plot_confusion_matrix(gsrf, X_test, y_test, cmap=\"Blues\");"
   ]
  },
  {
   "cell_type": "markdown",
   "metadata": {},
   "source": [
    "These results are basically the same as the KNN results. A story is emerging, but let's try one more model."
   ]
  },
  {
   "cell_type": "markdown",
   "metadata": {},
   "source": [
    "### Gradient Boosting"
   ]
  },
  {
   "cell_type": "code",
   "execution_count": 13,
   "metadata": {},
   "outputs": [
    {
     "name": "stdout",
     "output_type": "stream",
     "text": [
      "Accuracy: 0.882\n",
      "Recall: 0.308\n"
     ]
    },
    {
     "data": {
      "image/png": "[encoded data removed]",
      "text/plain": [
       "<Figure size 432x288 with 1 Axes>"
      ]
     },
     "metadata": {
      "needs_background": "light"
     },
     "output_type": "display_data"
    },
    {
     "data": {
      "image/png": "[encoded data removed]",
      "text/plain": [
       "<Figure size 432x288 with 2 Axes>"
      ]
     },
     "metadata": {
      "needs_background": "light"
     },
     "output_type": "display_data"
    }
   ],
   "source": [
    "from sklearn.ensemble import GradientBoostingClassifier\n",
    "\n",
    "gb_params = {\n",
    "    'n_estimators':[5,50,250,500],\n",
    "    'max_depth':[1,3,5,7,9],\n",
    "    'learning_rate':[0.01,0.1,1,10,100]\n",
    "}\n",
    "\n",
    "gsgb = GridSearchCV(GradientBoostingClassifier(), gb_params)\n",
    "gsgb.fit(X_train, y_train)\n",
    "\n",
    "y_predict_gsgb = gsgb.predict(X_test)\n",
    "\n",
    "accuracy_gsgb=gsgb.score(X_test,y_test)\n",
    "print('Accuracy: %.3f' % accuracy_gsgb)\n",
    "recall = recall_score(y_test, y_predict_gsgb)\n",
    "print('Recall: %.3f' % recall)\n",
    "\n",
    "_ = plot_roc_curve(gsgb,X_test,y_test)\n",
    "_ = plt.title(\"ROC, Gradient Boost\")\n",
    "plt.show()\n",
    "\n",
    "_ = plot_confusion_matrix(gsgb, X_test, y_test, cmap=\"Blues\")"
   ]
  },
  {
   "cell_type": "markdown",
   "metadata": {},
   "source": [
    "This approach does better, though still not very good, in terms of recall. Accuracy is about the same as the dummy classifier, and this observation points to our problem.\n",
    "\n",
    "### Conclusion and Next Steps\n",
    "\n",
    "The conclusion that I come to is that there is simply not enough data to deal this problem. The accuracy of each model at first looks decent, but looking at this score alone masks the fact that each model is really only picking out the most common class, like the dummy classifier.\n",
    "\n",
    "The most obvious recommendation is to gather more data and repeat the same processes with a larrger dataset. This dataset is slightly imbalanced, so similiar techniqes might be used along with oversampling techniqes — keeping in mind that the dataset as it has been processed is made up of non-continuous variables. In taking this approach, gradient boost looks like a promising model, as it shows the most improvements in recall which — it has been noted — is an important metric for identifying failing students in this context."
   ]
  }
 ],
 "metadata": {
  "kernelspec": {
   "display_name": "Python 3",
   "language": "python",
   "name": "python3"
  },
  "language_info": {
   "codemirror_mode": {
    "name": "ipython",
    "version": 3
   },
   "file_extension": ".py",
   "mimetype": "text/x-python",
   "name": "python",
   "nbconvert_exporter": "python",
   "pygments_lexer": "ipython3",
   "version": "3.8.5"
  }
 },
 "nbformat": 4,
 "nbformat_minor": 4
}
